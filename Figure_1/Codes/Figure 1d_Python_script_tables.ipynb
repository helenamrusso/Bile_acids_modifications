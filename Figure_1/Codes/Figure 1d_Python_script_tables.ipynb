{
 "cells": [
  {
   "cell_type": "code",
   "execution_count": null,
   "metadata": {},
   "outputs": [],
   "source": [
    "import pandas as pd\n",
    "import numpy as np"
   ]
  },
  {
   "cell_type": "code",
   "execution_count": null,
   "metadata": {},
   "outputs": [],
   "source": [
    "#import MassQL results\n",
    "df_non_NR = pd.read_csv('Nonhydroxy_ok/MSQL-REPO-FULL-NF-cfda47ab-query_results-main.tsv', sep='\\t')\n",
    "df_mono_NR = pd.read_csv('Monohydroxy/Monohydroxy_a6e6d4b2-query_results-main.tsv', sep='\\t')\n",
    "df_di_NR = pd.read_csv('Dihydroxy_2frag/Dihydroxy_2_c62f2978-query_results-main.tsv', sep='\\t')\n",
    "df_tri_NR = pd.read_csv('Trihydroxy/Trihydroxy_0a8d98af-query_results-main.tsv', sep='\\t')\n",
    "df_tetra_NR = pd.read_csv('Tetrahydroxy/Tetrahydroxy_04a19695-query_results-main.tsv', sep='\\t')\n",
    "df_penta_NR = pd.read_csv('Pentahydroxy/Pentahydroxy_7552066d-query_results-main.tsv', sep='\\t')"
   ]
  },
  {
   "cell_type": "code",
   "execution_count": null,
   "metadata": {},
   "outputs": [],
   "source": [
    "#calculating values for a new column to be populated by delta masses. In this case, we first subtract the\n",
    "#precmz column by a proton (assuming that it is a M+H adduct), and then subtract by the mass od the unconjudated BA.\n",
    "\n",
    "df_non_NR[\"delta_mass\"] = (df_non_NR['precmz'] - 361.3101)\n",
    "df_mono_NR[\"delta_mass\"] = (df_mono_NR['precmz'] - 377.3050)\n",
    "df_di_NR[\"delta_mass\"] = (df_di_NR['precmz'] - 393.2999)\n",
    "df_tri_NR[\"delta_mass\"] = (df_tri_NR['precmz'] - 409.2949)\n",
    "df_tetra_NR[\"delta_mass\"] = (df_tetra_NR['precmz'] - 425.2898)\n",
    "df_penta_NR[\"delta_mass\"] = (df_penta_NR['precmz'] - 441.2847)"
   ]
  },
  {
   "cell_type": "code",
   "execution_count": null,
   "metadata": {},
   "outputs": [],
   "source": [
    "#Calculating absolute numbers (multiply (-1) the negative values)\n",
    "\n",
    "df_non_NR[\"delta_mass\"] = df_non_NR[\"delta_mass\"].abs()\n",
    "df_mono_NR[\"delta_mass\"] = df_mono_NR[\"delta_mass\"].abs()\n",
    "df_di_NR[\"delta_mass\"] = df_di_NR[\"delta_mass\"].abs()\n",
    "df_tri_NR[\"delta_mass\"] = df_tri_NR[\"delta_mass\"].abs()\n",
    "df_tetra_NR[\"delta_mass\"] = df_tetra_NR[\"delta_mass\"].abs()\n",
    "df_penta_NR[\"delta_mass\"] = df_penta_NR[\"delta_mass\"].abs()"
   ]
  },
  {
   "cell_type": "code",
   "execution_count": null,
   "metadata": {},
   "outputs": [],
   "source": [
    "#now we round it to 4 and 2 decimals\n",
    "\n",
    "df_non_NR['delta_mass'] = df_non_NR['delta_mass'].round(decimals=4)\n",
    "df_mono_NR['delta_mass'] = df_mono_NR['delta_mass'].round(decimals=4)\n",
    "df_di_NR['delta_mass'] = df_di_NR['delta_mass'].round(decimals=4)\n",
    "df_tri_NR['delta_mass'] = df_tri_NR['delta_mass'].round(decimals=4)\n",
    "df_tetra_NR['delta_mass'] = df_tetra_NR['delta_mass'].round(decimals=4)\n",
    "df_penta_NR['delta_mass'] = df_penta_NR['delta_mass'].round(decimals=4)\n",
    "\n",
    "df_non_NR['delta_mass_round'] = df_non_NR['delta_mass'].round(decimals=2)\n",
    "df_mono_NR['delta_mass_round'] = df_mono_NR['delta_mass'].round(decimals=2)\n",
    "df_di_NR['delta_mass_round'] = df_di_NR['delta_mass'].round(decimals=2)\n",
    "df_tri_NR['delta_mass_round'] = df_tri_NR['delta_mass'].round(decimals=2)\n",
    "df_tetra_NR['delta_mass_round'] = df_tetra_NR['delta_mass'].round(decimals=2)\n",
    "df_penta_NR['delta_mass_round'] = df_penta_NR['delta_mass'].round(decimals=2)\n"
   ]
  },
  {
   "cell_type": "code",
   "execution_count": null,
   "metadata": {},
   "outputs": [],
   "source": [
    "#add from which BA query the results came from\n",
    "df_non_NR['Bile_acid'] = 'Nonhydroxy'\n",
    "df_mono_NR['Bile_acid'] = 'Monohydroxy'\n",
    "df_di_NR['Bile_acid'] = 'Dihydroxy'\n",
    "df_tri_NR['Bile_acid'] = 'Trihydroxy'\n",
    "df_tetra_NR['Bile_acid'] = 'Tetrahydroxy'\n",
    "df_penta_NR['Bile_acid'] = 'Pentahydroxy'"
   ]
  },
  {
   "cell_type": "code",
   "execution_count": null,
   "metadata": {},
   "outputs": [],
   "source": [
    "#concatenate them all vertically\n",
    "df_all_NR = pd.concat([df_non_NR, df_mono_NR, df_di_NR, df_tri_NR, df_tetra_NR, df_penta_NR], axis=0)"
   ]
  },
  {
   "cell_type": "code",
   "execution_count": null,
   "metadata": {},
   "outputs": [],
   "source": [
    "#getting the delta masses observed for each different BA core\n",
    "df_all_NR_delta = df_all_NR.groupby('Bile_acid')['delta_mass_round'].unique()\n",
    "df_all_NR_delta"
   ]
  },
  {
   "cell_type": "code",
   "execution_count": null,
   "metadata": {},
   "outputs": [],
   "source": [
    "#Then we can transform these results in strings\n",
    "\n",
    "BA_NR = list(df_all_NR['Bile_acid'].unique())\n",
    "delta_mass_NR = []\n",
    "df_BA_NR= pd.DataFrame()\n",
    "\n",
    "for delta in BA_NR:\n",
    "    delta_mass_NR.append([str(i) for i in list(df_all_NR_delta[str(delta)])])\n",
    "\n",
    "df_BA_NR['Bile_acid'] = BA_NR\n",
    "df_BA_NR['delta_mass_round'] = delta_mass_NR\n"
   ]
  },
  {
   "cell_type": "code",
   "execution_count": null,
   "metadata": {},
   "outputs": [],
   "source": [
    "#and already print the output to use directly in R for the upsetR package\n",
    "\n",
    "for i, delta in enumerate(list(df_BA_NR['Bile_acid'])):\n",
    "    lista = str(df_BA_NR['delta_mass_round'][i]).replace('[', '')\n",
    "    lista = lista.replace(']', '')\n",
    "    if i < len(df_BA_NR['Bile_acid']) -1:\n",
    "        print(f\"{delta} = c({lista}),\")\n",
    "    else:\n",
    "        print(f\"{delta} = c({lista})\")"
   ]
  },
  {
   "cell_type": "code",
   "execution_count": null,
   "metadata": {},
   "outputs": [],
   "source": [
    "##############################################################################################\n",
    "##############################################################################################\n",
    "\n",
    "# Upset plot code can be found in the Figure1d_R_script_upsetplot.R in this same repository \n",
    "\n",
    "##############################################################################################\n",
    "##############################################################################################"
   ]
  },
  {
   "cell_type": "code",
   "execution_count": null,
   "metadata": {},
   "outputs": [],
   "source": []
  }
 ],
 "metadata": {
  "kernelspec": {
   "display_name": "Python 3",
   "language": "python",
   "name": "python3"
  },
  "language_info": {
   "codemirror_mode": {
    "name": "ipython",
    "version": 3
   },
   "file_extension": ".py",
   "mimetype": "text/x-python",
   "name": "python",
   "nbconvert_exporter": "python",
   "pygments_lexer": "ipython3",
   "version": "3.7.6"
  }
 },
 "nbformat": 4,
 "nbformat_minor": 4
}
