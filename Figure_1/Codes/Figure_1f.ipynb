{
 "cells": [
  {
   "cell_type": "code",
   "execution_count": null,
   "metadata": {},
   "outputs": [],
   "source": [
    "import pandas as pd\n",
    "import plotly.express as px\n",
    "import chemparse"
   ]
  },
  {
   "cell_type": "code",
   "execution_count": null,
   "metadata": {},
   "outputs": [],
   "source": [
    "#First, we import all the predicted data from BUDDY and SIRIUS (stage 1 queries)\n",
    "\n",
    "df_non_sirius_NR = pd.read_csv('SIRIUS_clustered_MolNet/Non refined/Nonhydroxy_compound_identifications.tsv', sep='\\t')\n",
    "df_mono_sirius_NR = pd.read_csv('SIRIUS_clustered_MolNet/Non refined/Monohydroxy_compound_identifications.tsv', sep='\\t')\n",
    "df_di_sirius_NR = pd.read_csv('SIRIUS_clustered_MolNet/Non refined/Dihydroxy_compound_identifications.tsv', sep='\\t')\n",
    "df_tri_sirius_NR = pd.read_csv('SIRIUS_clustered_MolNet/Non refined/Trihydroxy_compound_identifications.tsv', sep='\\t')\n",
    "df_tetra_sirius_NR = pd.read_csv('SIRIUS_clustered_MolNet/Non refined/Tetrahydroxy_compound_identifications.tsv', sep='\\t')\n",
    "df_penta_sirius_NR = pd.read_csv('SIRIUS_clustered_MolNet/Non refined/Pentahydroxy_compound_identifications.tsv', sep='\\t')\n"
   ]
  },
  {
   "cell_type": "code",
   "execution_count": null,
   "metadata": {},
   "outputs": [],
   "source": [
    "#calculating values for a new column to be populated by delta masses. In this case, we first subtract the\n",
    "#precmz column by a proton (assuming that it is a M+H adduct), and then subtract by the mass od the unconjudated BA.\n",
    "\n",
    "df_non_sirius_NR[\"mass_delta\"] = (df_non_sirius_NR['ionMass'] - 361.3101)\n",
    "df_mono_sirius_NR[\"mass_delta\"] = (df_mono_sirius_NR['ionMass'] - 377.3050)\n",
    "df_di_sirius_NR[\"mass_delta\"] = (df_di_sirius_NR['ionMass'] - 393.2999)\n",
    "df_tri_sirius_NR[\"mass_delta\"] = (df_tri_sirius_NR['ionMass'] - 409.2949)\n",
    "df_tetra_sirius_NR[\"mass_delta\"] = (df_tetra_sirius_NR['ionMass'] - 425.2898)\n",
    "df_penta_sirius_NR[\"mass_delta\"] = (df_penta_sirius_NR['ionMass'] - 441.2847)"
   ]
  },
  {
   "cell_type": "code",
   "execution_count": null,
   "metadata": {},
   "outputs": [],
   "source": [
    "#Calculating absolute numbers (multiply (-1) the negative values) and making sure we have deltas with 4 decimals\n",
    "\n",
    "df_non_sirius_NR[\"mass_delta\"] = df_non_sirius_NR[\"mass_delta\"].abs()\n",
    "df_mono_sirius_NR[\"mass_delta\"] = df_mono_sirius_NR[\"mass_delta\"].abs()\n",
    "df_di_sirius_NR[\"mass_delta\"] = df_di_sirius_NR[\"mass_delta\"].abs()\n",
    "df_tri_sirius_NR[\"mass_delta\"] = df_tri_sirius_NR[\"mass_delta\"].abs()\n",
    "df_tetra_sirius_NR[\"mass_delta\"] = df_tetra_sirius_NR[\"mass_delta\"].abs()\n",
    "df_penta_sirius_NR[\"mass_delta\"] = df_penta_sirius_NR[\"mass_delta\"].abs()\n",
    "\n",
    "df_non_sirius_NR['mass_delta'] = df_non_sirius_NR['mass_delta'].round(decimals=4)\n",
    "df_mono_sirius_NR['mass_delta'] = df_mono_sirius_NR['mass_delta'].round(decimals=4)\n",
    "df_di_sirius_NR['mass_delta'] = df_di_sirius_NR['mass_delta'].round(decimals=4)\n",
    "df_tri_sirius_NR['mass_delta'] = df_tri_sirius_NR['mass_delta'].round(decimals=4)\n",
    "df_tetra_sirius_NR['mass_delta'] = df_tetra_sirius_NR['mass_delta'].round(decimals=4)\n",
    "df_penta_sirius_NR['mass_delta'] = df_penta_sirius_NR['mass_delta'].round(decimals=4)"
   ]
  },
  {
   "cell_type": "code",
   "execution_count": null,
   "metadata": {},
   "outputs": [],
   "source": [
    "#Now we must add the formulas and bile acid information for each bile acid table\n",
    "\n",
    "df_non_sirius_NR['Bile_acid'] = 'Nonhydroxy'\n",
    "df_mono_sirius_NR['Bile_acid'] = 'Monohydroxy'\n",
    "df_di_sirius_NR['Bile_acid'] = 'Dihydroxy'\n",
    "df_tri_sirius_NR['Bile_acid'] = 'Trihydroxy'\n",
    "df_tetra_sirius_NR['Bile_acid'] = 'Tetrahydroxy'\n",
    "df_penta_sirius_NR['Bile_acid'] = 'Pentahydroxy'\n",
    "\n",
    "df_non_sirius_NR['Formula_BA'] = 'C24H40O2'\n",
    "df_mono_sirius_NR['Formula_BA'] = 'C24H40O3'\n",
    "df_di_sirius_NR['Formula_BA'] = 'C24H40O4'\n",
    "df_tri_sirius_NR['Formula_BA'] = 'C24H40O5'\n",
    "df_tetra_sirius_NR['Formula_BA'] = 'C24H40O6'\n",
    "df_penta_sirius_NR['Formula_BA'] = 'C24H40O7'"
   ]
  },
  {
   "cell_type": "code",
   "execution_count": null,
   "metadata": {},
   "outputs": [],
   "source": [
    "#rename buddy column index to Scan and also create another column with the scan number for the sirius table\n",
    "\n",
    "#SIRIUS\n",
    "df_non_sirius_NR['Scan_sirius'] = df_non_sirius_NR['id'].str.split('_').str[3]\n",
    "df_non_sirius_NR['Scan_sirius'] = df_non_sirius_NR['Scan_sirius'].str.replace('ScanNumber', '')\n",
    "df_mono_sirius_NR['Scan_sirius'] = df_mono_sirius_NR['id'].str.split('_').str[3]\n",
    "df_mono_sirius_NR['Scan_sirius'] = df_mono_sirius_NR['Scan_sirius'].str.replace('ScanNumber', '')\n",
    "df_di_sirius_NR['Scan_sirius'] = df_di_sirius_NR['id'].str.split('_').str[3]\n",
    "df_di_sirius_NR['Scan_sirius'] = df_di_sirius_NR['Scan_sirius'].str.replace('ScanNumber', '')\n",
    "df_tri_sirius_NR['Scan_sirius'] = df_tri_sirius_NR['id'].str.split('_').str[3]\n",
    "df_tri_sirius_NR['Scan_sirius'] = df_tri_sirius_NR['Scan_sirius'].str.replace('ScanNumber', '')\n",
    "df_tetra_sirius_NR['Scan_sirius'] = df_tetra_sirius_NR['id'].str.split('_').str[3]\n",
    "df_tetra_sirius_NR['Scan_sirius'] = df_tetra_sirius_NR['Scan_sirius'].str.replace('ScanNumber', '')\n",
    "df_penta_sirius_NR['Scan_sirius'] = df_penta_sirius_NR['id'].str.split('_').str[3]\n",
    "df_penta_sirius_NR['Scan_sirius'] = df_penta_sirius_NR['Scan_sirius'].str.replace('ScanNumber', '')"
   ]
  },
  {
   "cell_type": "code",
   "execution_count": null,
   "metadata": {},
   "outputs": [],
   "source": [
    "#create a column Bile_Scan\n",
    "\n",
    "df_non_sirius_NR['Bile_scan'] = df_non_sirius_NR['Bile_acid'].astype(str).str.cat(df_non_sirius_NR[['Scan_sirius']].astype(str), sep='_')\n",
    "df_mono_sirius_NR['Bile_scan'] = df_mono_sirius_NR['Bile_acid'].astype(str).str.cat(df_mono_sirius_NR[['Scan_sirius']].astype(str), sep='_')\n",
    "df_di_sirius_NR['Bile_scan'] = df_di_sirius_NR['Bile_acid'].astype(str).str.cat(df_di_sirius_NR[['Scan_sirius']].astype(str), sep='_')\n",
    "df_tri_sirius_NR['Bile_scan'] = df_tri_sirius_NR['Bile_acid'].astype(str).str.cat(df_tri_sirius_NR[['Scan_sirius']].astype(str), sep='_')\n",
    "df_tetra_sirius_NR['Bile_scan'] = df_tetra_sirius_NR['Bile_acid'].astype(str).str.cat(df_tetra_sirius_NR[['Scan_sirius']].astype(str), sep='_')\n",
    "df_penta_sirius_NR['Bile_scan'] = df_penta_sirius_NR['Bile_acid'].astype(str).str.cat(df_penta_sirius_NR[['Scan_sirius']].astype(str), sep='_')\n"
   ]
  },
  {
   "cell_type": "code",
   "execution_count": null,
   "metadata": {},
   "outputs": [],
   "source": [
    "#Now we subtract the prediction of SIRIUS (neutral) with the respective neutral BA formula\n",
    "\n",
    "###### Nonhydroxy\n",
    "formula_non_sirius_NR = []\n",
    "\n",
    "for i in range(len(df_non_sirius_NR)):\n",
    "    formula_final = ''\n",
    "    dict_formula = chemparse.parse_formula(df_non_sirius_NR['molecularFormula'][i])\n",
    "    dict_formula_BA = chemparse.parse_formula(df_non_sirius_NR['Formula_BA'][i])\n",
    "    for element in dict_formula.keys():\n",
    "        try:\n",
    "            if dict_formula[element] - dict_formula_BA[element] == 0:\n",
    "                continue\n",
    "            else:\n",
    "                formula_final = formula_final + element + str(dict_formula[element] - dict_formula_BA[element]).split('.')[0]\n",
    "                \n",
    "        except KeyError:\n",
    "            formula_final = formula_final + element + str(dict_formula[element]).split('.')[0]\n",
    "    formula_non_sirius_NR.append(formula_final)\n",
    "\n",
    "\n",
    "###### Monohydroxy\n",
    "formula_mono_sirius_NR = []\n",
    "\n",
    "for i in range(len(df_mono_sirius_NR)):\n",
    "    formula_final = ''\n",
    "    dict_formula = chemparse.parse_formula(df_mono_sirius_NR['molecularFormula'][i])\n",
    "    dict_formula_BA = chemparse.parse_formula(df_mono_sirius_NR['Formula_BA'][i])\n",
    "    for element in dict_formula.keys():\n",
    "        try:\n",
    "            if dict_formula[element] - dict_formula_BA[element] == 0:\n",
    "                continue\n",
    "            else:\n",
    "                formula_final = formula_final + element + str(dict_formula[element] - dict_formula_BA[element]).split('.')[0]\n",
    "                \n",
    "        except KeyError:\n",
    "            formula_final = formula_final + element + str(dict_formula[element]).split('.')[0]\n",
    "    formula_mono_sirius_NR.append(formula_final)\n",
    "    \n",
    "    \n",
    "###### Dihydroxy\n",
    "formula_di_sirius_NR = []\n",
    "\n",
    "for i in range(len(df_di_sirius_NR)):\n",
    "    formula_final = ''\n",
    "    dict_formula = chemparse.parse_formula(df_di_sirius_NR['molecularFormula'][i])\n",
    "    dict_formula_BA = chemparse.parse_formula(df_di_sirius_NR['Formula_BA'][i])\n",
    "    for element in dict_formula.keys():\n",
    "        try:\n",
    "            if dict_formula[element] - dict_formula_BA[element] == 0:\n",
    "                continue\n",
    "            else:\n",
    "                formula_final = formula_final + element + str(dict_formula[element] - dict_formula_BA[element]).split('.')[0]\n",
    "                \n",
    "        except KeyError:\n",
    "            formula_final = formula_final + element + str(dict_formula[element]).split('.')[0]\n",
    "    formula_di_sirius_NR.append(formula_final)\n",
    "    \n",
    "    \n",
    "###### Trihydroxy\n",
    "formula_tri_sirius_NR = []\n",
    "\n",
    "for i in range(len(df_tri_sirius_NR)):\n",
    "    formula_final = ''\n",
    "    dict_formula = chemparse.parse_formula(df_tri_sirius_NR['molecularFormula'][i])\n",
    "    dict_formula_BA = chemparse.parse_formula(df_tri_sirius_NR['Formula_BA'][i])\n",
    "    for element in dict_formula.keys():\n",
    "        try:\n",
    "            if dict_formula[element] - dict_formula_BA[element] == 0:\n",
    "                continue\n",
    "            else:\n",
    "                formula_final = formula_final + element + str(dict_formula[element] - dict_formula_BA[element]).split('.')[0]\n",
    "                \n",
    "        except KeyError:\n",
    "            formula_final = formula_final + element + str(dict_formula[element]).split('.')[0]\n",
    "    formula_tri_sirius_NR.append(formula_final)\n",
    "    \n",
    "\n",
    "###### Tetrahydroxy\n",
    "formula_tetra_sirius_NR = []\n",
    "\n",
    "for i in range(len(df_tetra_sirius_NR)):\n",
    "    formula_final = ''\n",
    "    dict_formula = chemparse.parse_formula(df_tetra_sirius_NR['molecularFormula'][i])\n",
    "    dict_formula_BA = chemparse.parse_formula(df_tetra_sirius_NR['Formula_BA'][i])\n",
    "    for element in dict_formula.keys():\n",
    "        try:\n",
    "            if dict_formula[element] - dict_formula_BA[element] == 0:\n",
    "                continue\n",
    "            else:\n",
    "                formula_final = formula_final + element + str(dict_formula[element] - dict_formula_BA[element]).split('.')[0]\n",
    "                \n",
    "        except KeyError:\n",
    "            formula_final = formula_final + element + str(dict_formula[element]).split('.')[0]\n",
    "    formula_tetra_sirius_NR.append(formula_final)\n",
    "    \n",
    "    \n",
    "###### Pentahydroxy\n",
    "formula_penta_sirius_NR = []\n",
    "\n",
    "for i in range(len(df_penta_sirius_NR)):\n",
    "    formula_final = ''\n",
    "    dict_formula = chemparse.parse_formula(df_penta_sirius_NR['molecularFormula'][i])\n",
    "    dict_formula_BA = chemparse.parse_formula(df_penta_sirius_NR['Formula_BA'][i])\n",
    "    for element in dict_formula.keys():\n",
    "        try:\n",
    "            if dict_formula[element] - dict_formula_BA[element] == 0:\n",
    "                continue\n",
    "            else:\n",
    "                formula_final = formula_final + element + str(dict_formula[element] - dict_formula_BA[element]).split('.')[0]\n",
    "                \n",
    "        except KeyError:\n",
    "            formula_final = formula_final + element + str(dict_formula[element]).split('.')[0]\n",
    "    formula_penta_sirius_NR.append(formula_final)\n"
   ]
  },
  {
   "cell_type": "code",
   "execution_count": null,
   "metadata": {},
   "outputs": [],
   "source": [
    "#lists were created, now we add as a column in each dataframe. In addition, when no formula was predicted, \n",
    "#fill the atomic_difference column with N/A, and when the mass difference is nothing (Formula=Formula_BA), equals 0\n",
    "\n",
    "df_non_sirius_NR['atomic_difference_sirius'] = formula_non_sirius_NR\n",
    "df_non_sirius_NR['atomic_difference_sirius'].loc[(df_non_sirius_NR['molecularFormula'] == 'N/A')] = 'N/A'\n",
    "df_non_sirius_NR['atomic_difference_sirius'].loc[(df_non_sirius_NR['molecularFormula'] == df_non_sirius_NR['Formula_BA'])] = '0'\n",
    "\n",
    "df_mono_sirius_NR['atomic_difference_sirius'] = formula_mono_sirius_NR\n",
    "df_mono_sirius_NR['atomic_difference_sirius'].loc[(df_mono_sirius_NR['molecularFormula'] == 'N/A')] = 'N/A'\n",
    "df_mono_sirius_NR['atomic_difference_sirius'].loc[(df_mono_sirius_NR['molecularFormula'] == df_mono_sirius_NR['Formula_BA'])] = '0'\n",
    "\n",
    "df_di_sirius_NR['atomic_difference_sirius'] = formula_di_sirius_NR\n",
    "df_di_sirius_NR['atomic_difference_sirius'].loc[(df_di_sirius_NR['molecularFormula'] == 'N/A')] = 'N/A'\n",
    "df_di_sirius_NR['atomic_difference_sirius'].loc[(df_di_sirius_NR['molecularFormula'] == df_di_sirius_NR['Formula_BA'])] = '0'\n",
    "\n",
    "df_tri_sirius_NR['atomic_difference_sirius'] = formula_tri_sirius_NR\n",
    "df_tri_sirius_NR['atomic_difference_sirius'].loc[(df_tri_sirius_NR['molecularFormula'] == 'N/A')] = 'N/A'\n",
    "df_tri_sirius_NR['atomic_difference_sirius'].loc[(df_tri_sirius_NR['molecularFormula'] == df_tri_sirius_NR['Formula_BA'])] = '0'\n",
    "\n",
    "df_tetra_sirius_NR['atomic_difference_sirius'] = formula_tetra_sirius_NR\n",
    "df_tetra_sirius_NR['atomic_difference_sirius'].loc[(df_tetra_sirius_NR['molecularFormula'] == 'N/A')] = 'N/A'\n",
    "df_tetra_sirius_NR['atomic_difference_sirius'].loc[(df_tetra_sirius_NR['molecularFormula'] == df_tetra_sirius_NR['Formula_BA'])] = '0'\n",
    "\n",
    "df_penta_sirius_NR['atomic_difference_sirius'] = formula_penta_sirius_NR\n",
    "df_penta_sirius_NR['atomic_difference_sirius'].loc[(df_penta_sirius_NR['molecularFormula'] == 'N/A')] = 'N/A'\n",
    "df_penta_sirius_NR['atomic_difference_sirius'].loc[(df_penta_sirius_NR['molecularFormula'] == df_penta_sirius_NR['Formula_BA'])] = '0'\n"
   ]
  },
  {
   "cell_type": "code",
   "execution_count": null,
   "metadata": {},
   "outputs": [],
   "source": [
    "#add a bile acid m/z column related to each bile acid\n",
    "\n",
    "df_non_sirius_NR['BA_mz'] = 361.3101\n",
    "df_mono_sirius_NR['BA_mz'] = 377.305\n",
    "df_di_sirius_NR['BA_mz'] = 393.2999\n",
    "df_tri_sirius_NR['BA_mz'] = 409.2949\n",
    "df_tetra_sirius_NR['BA_mz'] = 425.2898\n",
    "df_penta_sirius_NR['BA_mz'] = 441.2847\n",
    "\n",
    "#Now we concatenate all the tables vertically\n",
    "\n",
    "df_all_sirius_NR = pd.concat([df_non_sirius_NR, df_mono_sirius_NR, df_di_sirius_NR, df_tri_sirius_NR, \n",
    "                              df_tetra_sirius_NR, df_penta_sirius_NR], axis=0)\n",
    "df_all_sirius_NR = df_all_sirius_NR.reset_index()\n"
   ]
  },
  {
   "cell_type": "code",
   "execution_count": null,
   "metadata": {},
   "outputs": [],
   "source": [
    "#export dataframe\n",
    "df_all_sirius_NR.to_csv('/Users/helenarusso/Downloads/df_all_sirius_merged_deltas.tsv', sep='\\t')\n"
   ]
  },
  {
   "cell_type": "code",
   "execution_count": null,
   "metadata": {},
   "outputs": [],
   "source": []
  },
  {
   "cell_type": "code",
   "execution_count": null,
   "metadata": {},
   "outputs": [],
   "source": [
    "#Preparing data for Figure 1f:"
   ]
  },
  {
   "cell_type": "code",
   "execution_count": null,
   "metadata": {},
   "outputs": [],
   "source": [
    "#Keep only some columns for clarity\n",
    "\n",
    "df_all_sirius_NR = df_all_sirius_NR[['Formula_BA', 'BA_mz', 'ionMass', 'molecularFormula', \n",
    "                                     'atomic_difference_sirius', 'Bile_acid', 'mass_delta']]"
   ]
  },
  {
   "cell_type": "code",
   "execution_count": null,
   "metadata": {},
   "outputs": [],
   "source": [
    "#Since we want groups of atoms, we canm first remove all numbers\n",
    "\n",
    "df_sirius_NR_delta_formula = df_all_sirius_NR[['atomic_difference_sirius']]\n",
    "\n",
    "list_atoms = []\n",
    "\n",
    "for i in range(len(df_sirius_NR_delta_formula)):\n",
    "    string_temp = df_sirius_NR_delta_formula['atomic_difference_sirius'].iloc[i]\n",
    "    atoms_temp = ''.join([j for j in string_temp if not j.isdigit()])\n",
    "    list_atoms.append(atoms_temp)\n",
    "\n",
    "df_sirius_NR_delta_formula['atoms'] = list_atoms"
   ]
  },
  {
   "cell_type": "code",
   "execution_count": null,
   "metadata": {},
   "outputs": [],
   "source": [
    "#Bile acids only have the following atoms: C, H and O. Therefore, the only 'negative' atoms possible are these.\n",
    "#We can do the following replacements:\n",
    "replace_dict = {\n",
    "    \"O-\": \"\",\n",
    "    \"H-\": \"\",\n",
    "    \"C-\": \"\"\n",
    "}\n",
    "\n",
    "df_all_sirius_NR['atoms_ok'] = df_sirius_NR_delta_formula['atoms'].replace(replace_dict, regex=True)\n"
   ]
  },
  {
   "cell_type": "code",
   "execution_count": null,
   "metadata": {},
   "outputs": [],
   "source": []
  },
  {
   "cell_type": "code",
   "execution_count": null,
   "metadata": {},
   "outputs": [],
   "source": [
    "# Barplots"
   ]
  },
  {
   "cell_type": "code",
   "execution_count": null,
   "metadata": {},
   "outputs": [],
   "source": [
    "#We are interested in the following possible modifications: CHO, CHN, CHNO, CHS, CHSO, CHNSO, CHOP\n",
    "#Therefore, let's just keep the rows in which 'atoms_ok' match these\n",
    "\n",
    "list_modifications = ['CHO', 'CHN', 'CHNO', 'CHS', 'CHOS', 'CHNOS', 'CHOP', 'CHNOP']\n",
    "df_all_sirius_NR_filtered = df_all_sirius_NR[df_all_sirius_NR['atoms_ok'].isin(list_modifications)]"
   ]
  },
  {
   "cell_type": "code",
   "execution_count": null,
   "metadata": {},
   "outputs": [],
   "source": [
    "#Now we can keep only the columns atomic_difference_sirius and atoms_ok and drop duplicates\n",
    "#we must keep the atomic_difference_sirius because we want to know how many different CHN, CHO etc appear, not the \n",
    "#total.\n",
    "\n",
    "df_all_sirius_NR_filtered = df_all_sirius_NR_filtered[['atomic_difference_sirius', 'atoms_ok', 'Bile_acid']]\n",
    "df_all_sirius_NR_filtered['combined'] = df_all_sirius_NR_filtered[['atoms_ok', 'Bile_acid']].agg('_'.join, axis=1)\n",
    "df_all_sirius_NR_filtered = df_all_sirius_NR_filtered.drop_duplicates()"
   ]
  },
  {
   "cell_type": "code",
   "execution_count": null,
   "metadata": {},
   "outputs": [],
   "source": [
    "df_all_sirius_NR_filtered.head()"
   ]
  },
  {
   "cell_type": "code",
   "execution_count": null,
   "metadata": {},
   "outputs": [],
   "source": [
    "#getting value counts\n",
    "\n",
    "atoms_count_sirius = pd.DataFrame(df_all_sirius_NR_filtered['combined'].value_counts().reset_index())\n",
    "atoms_count_sirius[['atoms', 'BA core']] = atoms_count_sirius['index'].str.split('_', expand=True)\n",
    "atoms_count_sirius = atoms_count_sirius.rename(columns={'combined': 'counts'})"
   ]
  },
  {
   "cell_type": "code",
   "execution_count": null,
   "metadata": {},
   "outputs": [],
   "source": [
    "atoms_count_sirius.head()"
   ]
  },
  {
   "cell_type": "code",
   "execution_count": null,
   "metadata": {},
   "outputs": [],
   "source": [
    "#Barplot using Plotly\n",
    "\n",
    "colors_BA = {'Nonhydroxy':'#3A54A5', \n",
    "             'Monohydroxy':'#428A40', \n",
    "             'Dihydroxy':'#F29B3E', \n",
    "             'Trihydroxy':'#F9DC53', \n",
    "             'Tetrahydroxy':'#802986',\n",
    "             'Pentahydroxy':'#747474'}\n",
    "\n",
    "\n",
    "fig = px.bar(atoms_count_sirius, x='atoms', y='counts', color='BA core', template='simple_white',\n",
    "            color_discrete_map = colors_BA, width= 1500, height=500,\n",
    "            labels={'atoms': 'Atoms',\n",
    "                   'counts': 'Counts',\n",
    "                   'BA core': 'Bile acid core'})\n",
    "fig.update_traces(marker_line_width=0)\n",
    "fig.update_layout(xaxis = {\"categoryorder\":\"total descending\"},\n",
    "                  font=dict(size=16, family='Arial'),\n",
    "                  bargap = 0.7,\n",
    "                  legend=dict(yanchor=\"top\", y=0.99, xanchor=\"right\", x=0.99, \n",
    "                              bordercolor=\"Black\", borderwidth=1.5))\n",
    "\n",
    "\n",
    "fig.write_image('/Users/helenarusso/Downloads/Sirius_bar_plots_Fig1f.pdf')\n",
    "fig.show()\n",
    "\n"
   ]
  },
  {
   "cell_type": "code",
   "execution_count": null,
   "metadata": {},
   "outputs": [],
   "source": []
  }
 ],
 "metadata": {
  "kernelspec": {
   "display_name": "Python 3",
   "language": "python",
   "name": "python3"
  },
  "language_info": {
   "codemirror_mode": {
    "name": "ipython",
    "version": 3
   },
   "file_extension": ".py",
   "mimetype": "text/x-python",
   "name": "python",
   "nbconvert_exporter": "python",
   "pygments_lexer": "ipython3",
   "version": "3.7.6"
  }
 },
 "nbformat": 4,
 "nbformat_minor": 4
}
