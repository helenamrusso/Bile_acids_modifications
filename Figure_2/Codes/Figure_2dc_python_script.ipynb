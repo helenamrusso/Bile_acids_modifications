{
 "cells": [
  {
   "cell_type": "code",
   "execution_count": 1,
   "metadata": {},
   "outputs": [],
   "source": [
    "import pandas as pd\n",
    "from upsetplot import plot\n",
    "import numpy as np"
   ]
  },
  {
   "cell_type": "markdown",
   "metadata": {},
   "source": [
    "# Homo sapiens"
   ]
  },
  {
   "cell_type": "code",
   "execution_count": null,
   "metadata": {},
   "outputs": [],
   "source": [
    "#import dataframe (obtained from code Figure_2ab_python_script.ipynb in the same repository)\n",
    "fastmasst_nonrefined_homo_sapiens = pd.read_csv('/Users/helenarusso/Downloads/merged_tables_homo_sapiens_round_deltas_not_refined_fastmasst.tsv', sep='\\t')\n"
   ]
  },
  {
   "cell_type": "code",
   "execution_count": null,
   "metadata": {},
   "outputs": [],
   "source": [
    "#replacing space by '_'\n",
    "fastmasst_nonrefined_homo_sapiens['UBERONBodyPartName'] = fastmasst_nonrefined_homo_sapiens['UBERONBodyPartName'].str.replace(' ','_')\n",
    "#getting a list of body parts\n",
    "fastmasst_nonrefined_homo_sapiens['UBERONBodyPartName'].unique()\n"
   ]
  },
  {
   "cell_type": "code",
   "execution_count": null,
   "metadata": {},
   "outputs": [],
   "source": [
    "# Now we can replace all the different skin body parts with just \"skin\", and combine blood plasma and serum to \"blood\"\n",
    "fastmasst_nonrefined_homo_sapiens['UBERONBodyPartName'] = fastmasst_nonrefined_homo_sapiens['UBERONBodyPartName'].str.replace('arm_skin','skin')\n",
    "fastmasst_nonrefined_homo_sapiens['UBERONBodyPartName'] = fastmasst_nonrefined_homo_sapiens['UBERONBodyPartName'].str.replace('skin_of_trunk','skin')\n",
    "fastmasst_nonrefined_homo_sapiens['UBERONBodyPartName'] = fastmasst_nonrefined_homo_sapiens['UBERONBodyPartName'].str.replace('axilla_skin','skin')\n",
    "fastmasst_nonrefined_homo_sapiens['UBERONBodyPartName'] = fastmasst_nonrefined_homo_sapiens['UBERONBodyPartName'].str.replace('head_or_neck_skin','skin')\n",
    "fastmasst_nonrefined_homo_sapiens['UBERONBodyPartName'] = fastmasst_nonrefined_homo_sapiens['UBERONBodyPartName'].str.replace('skin_of_manus','skin')\n",
    "fastmasst_nonrefined_homo_sapiens['UBERONBodyPartName'] = fastmasst_nonrefined_homo_sapiens['UBERONBodyPartName'].str.replace('skin_of_body','skin')\n",
    "fastmasst_nonrefined_homo_sapiens['UBERONBodyPartName'] = fastmasst_nonrefined_homo_sapiens['UBERONBodyPartName'].str.replace('skin_of_pes','skin')\n",
    "fastmasst_nonrefined_homo_sapiens['UBERONBodyPartName'] = fastmasst_nonrefined_homo_sapiens['UBERONBodyPartName'].str.replace('skin_of_leg','skin')\n",
    "fastmasst_nonrefined_homo_sapiens['UBERONBodyPartName'] = fastmasst_nonrefined_homo_sapiens['UBERONBodyPartName'].str.replace('blood_plasma','blood')\n",
    "fastmasst_nonrefined_homo_sapiens['UBERONBodyPartName'] = fastmasst_nonrefined_homo_sapiens['UBERONBodyPartName'].str.replace('blood_serum','blood')\n"
   ]
  },
  {
   "cell_type": "code",
   "execution_count": null,
   "metadata": {},
   "outputs": [],
   "source": [
    "#getting the delta mass observed for each different body part\n",
    "fastmasst_nonrefined_homo_sapiens_uberon = fastmasst_nonrefined_homo_sapiens.groupby('UBERONBodyPartName')['delta_mass'].unique()\n",
    "fastmasst_nonrefined_homo_sapiens_uberon\n"
   ]
  },
  {
   "cell_type": "code",
   "execution_count": null,
   "metadata": {},
   "outputs": [],
   "source": [
    "#Then we can transform these results in strings\n",
    "\n",
    "human_NR_uberon = list(fastmasst_nonrefined_homo_sapiens['UBERONBodyPartName'].unique())\n",
    "delta_mass_NR_human = []\n",
    "df_NR_human = pd.DataFrame()\n",
    "\n",
    "for body_part in human_NR_uberon:\n",
    "    delta_mass_NR_human.append([str(i) for i in list(fastmasst_nonrefined_homo_sapiens_uberon[str(body_part)])])\n",
    "\n",
    "df_NR_human['UBERONBodyPartName'] = human_NR_uberon\n",
    "df_NR_human['delta_mass'] = delta_mass_NR_human"
   ]
  },
  {
   "cell_type": "code",
   "execution_count": null,
   "metadata": {},
   "outputs": [],
   "source": [
    "#and already print the output to use directly in R for the upsetR package\n",
    "\n",
    "for i, body in enumerate(list(df_NR_human['UBERONBodyPartName'])):\n",
    "    lista = str(df_NR_human['delta_mass'][i]).replace('[', '')\n",
    "    lista = lista.replace(']', '')\n",
    "    if i < len(df_NR_human['UBERONBodyPartName']) -1:\n",
    "        print(f\"{body} = c({lista}),\")\n",
    "    else:\n",
    "        print(f\"{body} = c({lista})\")"
   ]
  },
  {
   "cell_type": "code",
   "execution_count": null,
   "metadata": {},
   "outputs": [],
   "source": [
    "##############################################################################################\n",
    "##############################################################################################\n",
    "\n",
    "# Upset plot code can be found in the Figure_2cd_R_Script_upset_plot.R in this same repository \n",
    "\n",
    "##############################################################################################\n",
    "##############################################################################################"
   ]
  },
  {
   "cell_type": "code",
   "execution_count": null,
   "metadata": {},
   "outputs": [],
   "source": []
  },
  {
   "cell_type": "markdown",
   "metadata": {},
   "source": [
    "### Reorganizing tables for export (Supplementary Data 5)"
   ]
  },
  {
   "cell_type": "code",
   "execution_count": null,
   "metadata": {},
   "outputs": [],
   "source": [
    "#let's get different dataframes for each of the body parts\n",
    "nonref_human_saliva = fastmasst_nonrefined_homo_sapiens.loc[fastmasst_nonrefined_homo_sapiens['UBERONBodyPartName'] == 'saliva']\n",
    "nonref_human_urine = fastmasst_nonrefined_homo_sapiens.loc[fastmasst_nonrefined_homo_sapiens['UBERONBodyPartName'] == 'urine']\n",
    "nonref_human_skin = fastmasst_nonrefined_homo_sapiens.loc[fastmasst_nonrefined_homo_sapiens['UBERONBodyPartName'] == 'skin']\n",
    "nonref_human_blood = fastmasst_nonrefined_homo_sapiens.loc[fastmasst_nonrefined_homo_sapiens['UBERONBodyPartName'] == 'blood']\n",
    "nonref_human_anal_region = fastmasst_nonrefined_homo_sapiens.loc[fastmasst_nonrefined_homo_sapiens['UBERONBodyPartName'] == 'anal_region']\n",
    "nonref_human_oral_cavity = fastmasst_nonrefined_homo_sapiens.loc[fastmasst_nonrefined_homo_sapiens['UBERONBodyPartName'] == 'oral_cavity']\n",
    "nonref_human_feces = fastmasst_nonrefined_homo_sapiens.loc[fastmasst_nonrefined_homo_sapiens['UBERONBodyPartName'] == 'feces']\n",
    "nonref_human_nasal_cavity = fastmasst_nonrefined_homo_sapiens.loc[fastmasst_nonrefined_homo_sapiens['UBERONBodyPartName'] == 'nasal_cavity']\n",
    "nonref_human_cerebrospinal_fluid = fastmasst_nonrefined_homo_sapiens.loc[fastmasst_nonrefined_homo_sapiens['UBERONBodyPartName'] == 'cerebrospinal_fluid']\n",
    "nonref_human_vagina = fastmasst_nonrefined_homo_sapiens.loc[fastmasst_nonrefined_homo_sapiens['UBERONBodyPartName'] == 'vagina']\n",
    "nonref_human_milk = fastmasst_nonrefined_homo_sapiens.loc[fastmasst_nonrefined_homo_sapiens['UBERONBodyPartName'] == 'milk']\n",
    "nonref_human_brain = fastmasst_nonrefined_homo_sapiens.loc[fastmasst_nonrefined_homo_sapiens['UBERONBodyPartName'] == 'brain']\n",
    "nonref_human_not_applicable = fastmasst_nonrefined_homo_sapiens.loc[fastmasst_nonrefined_homo_sapiens['UBERONBodyPartName'] == 'not_applicable']\n",
    "\n"
   ]
  },
  {
   "cell_type": "code",
   "execution_count": null,
   "metadata": {},
   "outputs": [],
   "source": [
    "#and get sets for each of those to extract unique deltas in each body part\n",
    "saliva = set(nonref_human_saliva['delta_mass'])\n",
    "urine = set(nonref_human_urine['delta_mass'])\n",
    "skin = set(nonref_human_skin['delta_mass'])\n",
    "blood = set(nonref_human_blood['delta_mass'])\n",
    "anal_region = set(nonref_human_anal_region['delta_mass'])\n",
    "oral_cavity = set(nonref_human_oral_cavity['delta_mass'])\n",
    "feces = set(nonref_human_feces['delta_mass'])\n",
    "nasal_cavity = set(nonref_human_nasal_cavity['delta_mass'])\n",
    "cerebrospinal_fluid = set(nonref_human_cerebrospinal_fluid['delta_mass'])\n",
    "vagina = set(nonref_human_vagina['delta_mass'])\n",
    "milk = set(nonref_human_milk['delta_mass'])\n",
    "brain = set(nonref_human_brain['delta_mass'])\n",
    "not_applicable = set(nonref_human_not_applicable['delta_mass'])"
   ]
  },
  {
   "cell_type": "code",
   "execution_count": null,
   "metadata": {},
   "outputs": [],
   "source": [
    "#puting set names as the body parts\n",
    "set_names = ['saliva', 'urine','skin','blood','anal_region','oral_cavity','feces','nasal_cavity',\n",
    "             'cerebrospinal_fluid','vagina','milk','brain']"
   ]
  },
  {
   "cell_type": "code",
   "execution_count": null,
   "metadata": {},
   "outputs": [],
   "source": [
    "#creating a lost of the set names which contains the union of all the sets of unique deltas.\n",
    "all_elems = saliva.union(urine).union(skin).union(blood). \\\n",
    "union(anal_region).union(oral_cavity).union(feces).union(nasal_cavity). \\\n",
    "union(cerebrospinal_fluid).union(vagina).union(milk).union(brain)"
   ]
  },
  {
   "cell_type": "code",
   "execution_count": null,
   "metadata": {},
   "outputs": [],
   "source": [
    "#now let's create a dataframe with information on whether the list of elements (all_elems) is present or absent in \n",
    "#different body parts\n",
    "df_final_human_nonrefined = pd.DataFrame([[e in saliva,\n",
    "                                           e in urine, \n",
    "                                           e in skin, \n",
    "                                           e in blood, \n",
    "                                           e in anal_region, \n",
    "                                           e in oral_cavity, \n",
    "                                           e in feces, \n",
    "                                           e in nasal_cavity, \n",
    "                                           e in cerebrospinal_fluid, \n",
    "                                           e in vagina, \n",
    "                                           e in milk, \n",
    "                                           e in brain] for e in all_elems], columns = set_names)"
   ]
  },
  {
   "cell_type": "code",
   "execution_count": null,
   "metadata": {},
   "outputs": [],
   "source": [
    "#add a new column to the dataframe with the delta mass of each relative to each row\n",
    "df_final_human_nonrefined['delta_mass'] = all_elems"
   ]
  },
  {
   "cell_type": "code",
   "execution_count": null,
   "metadata": {},
   "outputs": [],
   "source": [
    "#convert the boolean values (True/False) to 1 and 0\n",
    "df_final_human_nonrefined_01 = df_final_human_nonrefined.astype(str).replace('True','1')\n",
    "df_final_human_nonrefined_01 = df_final_human_nonrefined_01.astype(str).replace('False','0')"
   ]
  },
  {
   "cell_type": "code",
   "execution_count": null,
   "metadata": {},
   "outputs": [],
   "source": [
    "#export dataframes\n",
    "df_final_human_nonrefined.to_csv('/Users/helenarusso/Documents/Pesquisa/UCSD Post-doc/Bile acids mining MassQL/microbeMASST/FastMASST.nosync/Upset plots body part - groups combined - final/tables with sets/human_nonrefined_True_False.tsv', sep='\\t')\n",
    "df_final_human_nonrefined_01.to_csv('/Users/helenarusso/Documents/Pesquisa/UCSD Post-doc/Bile acids mining MassQL/microbeMASST/FastMASST.nosync/Upset plots body part - groups combined - final/tables with sets/human_nonrefined_1_0.tsv', sep='\\t')\n",
    "### Supplementary Data 5\n"
   ]
  },
  {
   "cell_type": "code",
   "execution_count": null,
   "metadata": {},
   "outputs": [],
   "source": []
  },
  {
   "cell_type": "markdown",
   "metadata": {},
   "source": [
    "# Rodents"
   ]
  },
  {
   "cell_type": "code",
   "execution_count": null,
   "metadata": {},
   "outputs": [],
   "source": [
    "#import dataframe (obtained from code Figure_2ab_python_script.ipynb in the same repository)\n",
    "fastmasst_nonrefined_rattus_mus = pd.read_csv('/Users/helenarusso/Downloads/merged_tables_rattus_mus_round_deltas_not_refined_fastmasst.tsv', sep='\\t')\n"
   ]
  },
  {
   "cell_type": "code",
   "execution_count": null,
   "metadata": {},
   "outputs": [],
   "source": [
    "#replacing space by '_'\n",
    "fastmasst_nonrefined_rattus_mus['UBERONBodyPartName'] = fastmasst_nonrefined_rattus_mus['UBERONBodyPartName'].str.replace(' ','_')\n",
    "#getting a list of body parts\n",
    "fastmasst_nonrefined_rattus_mus['UBERONBodyPartName'].unique()\n"
   ]
  },
  {
   "cell_type": "code",
   "execution_count": null,
   "metadata": {},
   "outputs": [],
   "source": [
    "# Now we can replace all the different skin body parts with just \"skin\"\n",
    "fastmasst_nonrefined_rattus_mus['UBERONBodyPartName'] = fastmasst_nonrefined_rattus_mus['UBERONBodyPartName'].str.replace('skin_of_leg','skin')\n",
    "fastmasst_nonrefined_rattus_mus['UBERONBodyPartName'] = fastmasst_nonrefined_rattus_mus['UBERONBodyPartName'].str.replace('skin_of_trunk','skin')\n",
    "fastmasst_nonrefined_rattus_mus['UBERONBodyPartName'] = fastmasst_nonrefined_rattus_mus['UBERONBodyPartName'].str.replace('blood_plasma','blood')\n",
    "fastmasst_nonrefined_rattus_mus['UBERONBodyPartName'] = fastmasst_nonrefined_rattus_mus['UBERONBodyPartName'].str.replace('blood_serum','blood')\n"
   ]
  },
  {
   "cell_type": "code",
   "execution_count": null,
   "metadata": {},
   "outputs": [],
   "source": [
    "#getting the delta mass observed for each different body part\n",
    "fastmasst_nonrefined_rattus_mus_uberon = fastmasst_nonrefined_rattus_mus.groupby('UBERONBodyPartName')['delta_mass'].unique()\n",
    "fastmasst_nonrefined_rattus_mus_uberon\n"
   ]
  },
  {
   "cell_type": "code",
   "execution_count": null,
   "metadata": {},
   "outputs": [],
   "source": [
    "#Then we can transform these results in strings\n",
    "\n",
    "mice_NR_uberon = list(fastmasst_nonrefined_rattus_mus['UBERONBodyPartName'].unique())\n",
    "delta_mass_NR_mice = []\n",
    "df_NR_mice = pd.DataFrame()\n",
    "\n",
    "for body_part in mice_NR_uberon:\n",
    "    delta_mass_NR_mice.append([str(i) for i in list(fastmasst_nonrefined_rattus_mus_uberon[str(body_part)])])\n",
    "\n",
    "df_NR_mice['UBERONBodyPartName'] = mice_NR_uberon\n",
    "df_NR_mice['delta_mass'] = delta_mass_NR_mice"
   ]
  },
  {
   "cell_type": "code",
   "execution_count": null,
   "metadata": {},
   "outputs": [],
   "source": [
    "#and already print the output to use directly in R for the upsetR package\n",
    "\n",
    "for i, body in enumerate(list(df_NR_mice['UBERONBodyPartName'])):\n",
    "    lista = str(df_NR_mice['delta_mass'][i]).replace('[', '')\n",
    "    lista = lista.replace(']', '')\n",
    "    if i < len(df_NR_mice['UBERONBodyPartName']) -1:\n",
    "        print(f\"{body} = c({lista}),\")\n",
    "    else:\n",
    "        print(f\"{body} = c({lista})\")"
   ]
  },
  {
   "cell_type": "code",
   "execution_count": null,
   "metadata": {},
   "outputs": [],
   "source": [
    "##############################################################################################\n",
    "##############################################################################################\n",
    "\n",
    "# Upset plot code can be found in the Figure_2cd_R_Script_upset_plot.R in this same repository \n",
    "\n",
    "##############################################################################################\n",
    "##############################################################################################"
   ]
  },
  {
   "cell_type": "code",
   "execution_count": null,
   "metadata": {},
   "outputs": [],
   "source": []
  },
  {
   "cell_type": "markdown",
   "metadata": {},
   "source": [
    "### Reorganizing tables for export (Supplementary Data 5)"
   ]
  },
  {
   "cell_type": "code",
   "execution_count": null,
   "metadata": {},
   "outputs": [],
   "source": [
    "#let's get different dataframes for each of the body parts\n",
    "nonref_mice_feces = fastmasst_nonrefined_rattus_mus.loc[fastmasst_nonrefined_rattus_mus['UBERONBodyPartName'] == 'feces']\n",
    "nonref_mice_esophagus = fastmasst_nonrefined_rattus_mus.loc[fastmasst_nonrefined_rattus_mus['UBERONBodyPartName'] == 'esophagus']\n",
    "nonref_mice_colon = fastmasst_nonrefined_rattus_mus.loc[fastmasst_nonrefined_rattus_mus['UBERONBodyPartName'] == 'colon']\n",
    "nonref_mice_ileum = fastmasst_nonrefined_rattus_mus.loc[fastmasst_nonrefined_rattus_mus['UBERONBodyPartName'] == 'ileum']\n",
    "nonref_mice_kidney = fastmasst_nonrefined_rattus_mus.loc[fastmasst_nonrefined_rattus_mus['UBERONBodyPartName'] == 'kidney']\n",
    "nonref_mice_jejunum = fastmasst_nonrefined_rattus_mus.loc[fastmasst_nonrefined_rattus_mus['UBERONBodyPartName'] == 'jejunum']\n",
    "nonref_mice_uterus = fastmasst_nonrefined_rattus_mus.loc[fastmasst_nonrefined_rattus_mus['UBERONBodyPartName'] == 'uterus']\n",
    "nonref_mice_thymus = fastmasst_nonrefined_rattus_mus.loc[fastmasst_nonrefined_rattus_mus['UBERONBodyPartName'] == 'thymus']\n",
    "nonref_mice_ovary = fastmasst_nonrefined_rattus_mus.loc[fastmasst_nonrefined_rattus_mus['UBERONBodyPartName'] == 'ovary']\n",
    "nonref_mice_adrenal_gland = fastmasst_nonrefined_rattus_mus.loc[fastmasst_nonrefined_rattus_mus['UBERONBodyPartName'] == 'adrenal_gland']\n",
    "nonref_mice_stomach = fastmasst_nonrefined_rattus_mus.loc[fastmasst_nonrefined_rattus_mus['UBERONBodyPartName'] == 'stomach']\n",
    "nonref_mice_caecum = fastmasst_nonrefined_rattus_mus.loc[fastmasst_nonrefined_rattus_mus['UBERONBodyPartName'] == 'caecum']\n",
    "nonref_mice_duodenum = fastmasst_nonrefined_rattus_mus.loc[fastmasst_nonrefined_rattus_mus['UBERONBodyPartName'] == 'duodenum']\n",
    "nonref_mice_heart = fastmasst_nonrefined_rattus_mus.loc[fastmasst_nonrefined_rattus_mus['UBERONBodyPartName'] == 'heart']\n",
    "nonref_mice_uterine_cervix = fastmasst_nonrefined_rattus_mus.loc[fastmasst_nonrefined_rattus_mus['UBERONBodyPartName'] == 'uterine_cervix']\n",
    "nonref_mice_brain = fastmasst_nonrefined_rattus_mus.loc[fastmasst_nonrefined_rattus_mus['UBERONBodyPartName'] == 'brain']\n",
    "nonref_mice_lung = fastmasst_nonrefined_rattus_mus.loc[fastmasst_nonrefined_rattus_mus['UBERONBodyPartName'] == 'lung']\n",
    "nonref_mice_pancreas = fastmasst_nonrefined_rattus_mus.loc[fastmasst_nonrefined_rattus_mus['UBERONBodyPartName'] == 'pancreas']\n",
    "nonref_mice_spleen = fastmasst_nonrefined_rattus_mus.loc[fastmasst_nonrefined_rattus_mus['UBERONBodyPartName'] == 'spleen']\n",
    "nonref_mice_liver = fastmasst_nonrefined_rattus_mus.loc[fastmasst_nonrefined_rattus_mus['UBERONBodyPartName'] == 'liver']\n",
    "nonref_mice_vagina = fastmasst_nonrefined_rattus_mus.loc[fastmasst_nonrefined_rattus_mus['UBERONBodyPartName'] == 'vagina']\n",
    "nonref_mice_bladder_organ = fastmasst_nonrefined_rattus_mus.loc[fastmasst_nonrefined_rattus_mus['UBERONBodyPartName'] == 'bladder_organ']\n",
    "nonref_mice_blood = fastmasst_nonrefined_rattus_mus.loc[fastmasst_nonrefined_rattus_mus['UBERONBodyPartName'] == 'blood']\n",
    "nonref_mice_gall_bladder = fastmasst_nonrefined_rattus_mus.loc[fastmasst_nonrefined_rattus_mus['UBERONBodyPartName'] == 'gall_bladder']\n",
    "nonref_mice_trachea = fastmasst_nonrefined_rattus_mus.loc[fastmasst_nonrefined_rattus_mus['UBERONBodyPartName'] == 'trachea']\n",
    "nonref_mice_skin = fastmasst_nonrefined_rattus_mus.loc[fastmasst_nonrefined_rattus_mus['UBERONBodyPartName'] == 'skin']\n",
    "nonref_mice_urine = fastmasst_nonrefined_rattus_mus.loc[fastmasst_nonrefined_rattus_mus['UBERONBodyPartName'] == 'urine']\n"
   ]
  },
  {
   "cell_type": "code",
   "execution_count": null,
   "metadata": {},
   "outputs": [],
   "source": [
    "#and get sets for each of those to extract unique deltas in each body part\n",
    "feces = set(nonref_mice_feces['delta_mass'])\n",
    "esophagus = set(nonref_mice_esophagus['delta_mass'])\n",
    "colon = set(nonref_mice_colon['delta_mass'])\n",
    "ileum = set(nonref_mice_ileum['delta_mass'])\n",
    "kidney = set(nonref_mice_kidney['delta_mass'])\n",
    "jejunum = set(nonref_mice_jejunum['delta_mass'])\n",
    "uterus = set(nonref_mice_uterus['delta_mass'])\n",
    "thymus = set(nonref_mice_thymus['delta_mass'])\n",
    "ovary = set(nonref_mice_ovary['delta_mass'])\n",
    "adrenal_gland = set(nonref_mice_adrenal_gland['delta_mass'])\n",
    "stomach = set(nonref_mice_stomach['delta_mass'])\n",
    "caecum = set(nonref_mice_caecum['delta_mass'])\n",
    "duodenum = set(nonref_mice_duodenum['delta_mass'])\n",
    "heart = set(nonref_mice_heart['delta_mass'])\n",
    "uterine_cervix = set(nonref_mice_uterine_cervix['delta_mass'])\n",
    "brain = set(nonref_mice_brain['delta_mass'])\n",
    "lung = set(nonref_mice_lung['delta_mass'])\n",
    "pancreas = set(nonref_mice_pancreas['delta_mass'])\n",
    "spleen = set(nonref_mice_spleen['delta_mass'])\n",
    "liver = set(nonref_mice_liver['delta_mass'])\n",
    "vagina = set(nonref_mice_vagina['delta_mass'])\n",
    "bladder_organ = set(nonref_mice_bladder_organ['delta_mass'])\n",
    "blood = set(nonref_mice_blood['delta_mass'])\n",
    "gall_bladder = set(nonref_mice_gall_bladder['delta_mass'])\n",
    "trachea = set(nonref_mice_trachea['delta_mass'])\n",
    "skin = set(nonref_mice_skin['delta_mass'])\n",
    "urine = set(nonref_mice_urine['delta_mass'])"
   ]
  },
  {
   "cell_type": "code",
   "execution_count": null,
   "metadata": {},
   "outputs": [],
   "source": [
    "#puting set names as the body parts\n",
    "set_names = ['feces', 'esophagus', 'colon', 'ileum', 'kidney', 'jejunum', 'uterus', \n",
    "             'thymus', 'ovary', 'adrenal_gland', 'stomach', 'caecum', 'duodenum', 'heart', \n",
    "             'uterine_cervix', 'brain', 'lung', 'pancreas', 'spleen', 'liver', 'vagina', \n",
    "             'bladder_organ', 'blood', 'gall_bladder', 'trachea', 'skin', 'urine']"
   ]
  },
  {
   "cell_type": "code",
   "execution_count": null,
   "metadata": {},
   "outputs": [],
   "source": [
    "#creating a lost of the set names which contains the union of all the sets of unique deltas.\n",
    "all_elems = feces.union(esophagus).union(colon).union(ileum).union(kidney). \\\n",
    "union(jejunum).union(uterus).union(thymus).union(ovary).union(adrenal_gland).union(stomach). \\\n",
    "union(caecum).union(duodenum).union(heart).union(uterine_cervix).union(brain).union(lung).union(pancreas). \\\n",
    "union(spleen).union(liver).union(vagina).union(bladder_organ).union(blood). \\\n",
    "union(gall_bladder).union(trachea).union(skin).union(urine)"
   ]
  },
  {
   "cell_type": "code",
   "execution_count": null,
   "metadata": {},
   "outputs": [],
   "source": [
    "#now let's create a dataframe with information on whether the list of elements (all_elems) is present or absent in \n",
    "#different body parts\n",
    "df_final_mice_nonrefined = pd.DataFrame([[e in feces,\n",
    "                                          e in esophagus,\n",
    "                                          e in colon,\n",
    "                                          e in ileum,\n",
    "                                          e in kidney,\n",
    "                                          e in jejunum,\n",
    "                                          e in uterus,\n",
    "                                          e in thymus,\n",
    "                                          e in ovary,\n",
    "                                          e in adrenal_gland,\n",
    "                                          e in stomach,\n",
    "                                          e in caecum,\n",
    "                                          e in duodenum,\n",
    "                                          e in heart,\n",
    "                                          e in uterine_cervix,\n",
    "                                          e in brain,\n",
    "                                          e in lung,\n",
    "                                          e in pancreas,\n",
    "                                          e in spleen,\n",
    "                                          e in liver,\n",
    "                                          e in vagina,\n",
    "                                          e in bladder_organ,\n",
    "                                          e in blood,\n",
    "                                          e in gall_bladder,\n",
    "                                          e in trachea,\n",
    "                                          e in skin,\n",
    "                                          e in urine] for e in all_elems], columns = set_names)"
   ]
  },
  {
   "cell_type": "code",
   "execution_count": null,
   "metadata": {},
   "outputs": [],
   "source": [
    "#add a new column to the dataframe with the delta mass of each relative to each row\n",
    "df_final_mice_nonrefined['delta_mass'] = all_elems"
   ]
  },
  {
   "cell_type": "code",
   "execution_count": null,
   "metadata": {},
   "outputs": [],
   "source": [
    "#convert the boolean values (True/False) to 1 and 0\n",
    "df_final_mice_nonrefined_01 = df_final_mice_nonrefined.astype(str).replace('True','1')\n",
    "df_final_mice_nonrefined_01 = df_final_mice_nonrefined_01.astype(str).replace('False','0')"
   ]
  },
  {
   "cell_type": "code",
   "execution_count": null,
   "metadata": {},
   "outputs": [],
   "source": [
    "#export dataframes\n",
    "df_final_mice_nonrefined.to_csv('/Users/helenarusso/Documents/Pesquisa/UCSD Post-doc/Bile acids mining MassQL/microbeMASST/FastMASST.nosync/Upset plots body part - groups combined - final/tables with sets/mice_nonrefined_True_False.tsv', sep='\\t')\n",
    "df_final_mice_nonrefined_01.to_csv('/Users/helenarusso/Documents/Pesquisa/UCSD Post-doc/Bile acids mining MassQL/microbeMASST/FastMASST.nosync/Upset plots body part - groups combined - final/tables with sets/mice_nonrefined_1_0.tsv', sep='\\t')\n",
    "### Supplementary Data 5\n"
   ]
  },
  {
   "cell_type": "code",
   "execution_count": null,
   "metadata": {},
   "outputs": [],
   "source": []
  }
 ],
 "metadata": {
  "kernelspec": {
   "display_name": "Python 3",
   "language": "python",
   "name": "python3"
  },
  "language_info": {
   "codemirror_mode": {
    "name": "ipython",
    "version": 3
   },
   "file_extension": ".py",
   "mimetype": "text/x-python",
   "name": "python",
   "nbconvert_exporter": "python",
   "pygments_lexer": "ipython3",
   "version": "3.7.6"
  }
 },
 "nbformat": 4,
 "nbformat_minor": 4
}
